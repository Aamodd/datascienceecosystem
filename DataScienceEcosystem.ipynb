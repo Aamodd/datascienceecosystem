{
 "cells": [
  {
   "cell_type": "markdown",
   "id": "0d064032-e92e-45af-8ada-219d30d2b8ee",
   "metadata": {
    "tags": []
   },
   "source": [
    "# Data Sience Tools and Ecosystem"
   ]
  },
  {
   "cell_type": "markdown",
   "id": "99807243-8e9e-4dcc-938f-a01b45a30f5c",
   "metadata": {},
   "source": [
    "### In this notebook different data science tools and ecosystem are summarized properly. "
   ]
  },
  {
   "cell_type": "markdown",
   "id": "7c4cfc8c-c408-419b-be72-29e5f1e5a5c3",
   "metadata": {},
   "source": [
    "**Objectives**\n",
    "* Popular data science languages\n",
    "* Various data Science libraries \n",
    "* Development environment open source tools in data science\n",
    "* Example of evaluating arithmetic expressions in Python"
   ]
  },
  {
   "cell_type": "markdown",
   "id": "34af0b11-9a9d-42fe-a66d-d3c90764b3ca",
   "metadata": {},
   "source": [
    "### There are various popular languages that data scientists use. Some of them are listed below:\n",
    "### 1. Python\n",
    "### 2. R\n",
    "### 3. SQL\n",
    "### 4. Julia\n",
    "### 5. Scala"
   ]
  },
  {
   "cell_type": "markdown",
   "id": "6ba85e51-7632-43ba-a824-3656c3fd6765",
   "metadata": {},
   "source": [
    "### There are various libraries which are commonly used by data scientists. Some of them are listed below.\n",
    "### 1. Pandas\n",
    "### 2. Numpy\n",
    "### 3. Matplotlib\n",
    "### 4. Scikitlearn\n",
    "### 5. Keras\n",
    "### 6. Tensorflow\n",
    "### 7. Ggplot\n"
   ]
  },
  {
   "cell_type": "markdown",
   "id": "901149c6-125f-4335-b49e-7eeb69ac6dd9",
   "metadata": {},
   "source": [
    "### Following are some development environment open source tools in ds\n",
    "|Data Science Tools|\n",
    "|:----------------:|\n",
    "|Hadoop|\n",
    "|R studio|\n",
    "|Jupyter Notebooks|"
   ]
  },
  {
   "cell_type": "markdown",
   "id": "d49e09bf-874a-4137-8a4b-a33cef08fd08",
   "metadata": {},
   "source": [
    "### Below are some examples of evaluating arithmetic expressions in Python"
   ]
  },
  {
   "cell_type": "code",
   "execution_count": 1,
   "id": "230426b9-7fdf-4bfb-9cd1-aee4e98d2ba5",
   "metadata": {
    "tags": []
   },
   "outputs": [
    {
     "data": {
      "text/plain": [
       "17"
      ]
     },
     "execution_count": 1,
     "metadata": {},
     "output_type": "execute_result"
    }
   ],
   "source": [
    "# This is a simple arithmetic expression to multiply then add integers \n",
    "(3*4)+5"
   ]
  },
  {
   "cell_type": "code",
   "execution_count": 3,
   "id": "d2f34bf9-9d61-4185-963a-4655847a9ec4",
   "metadata": {
    "tags": []
   },
   "outputs": [
    {
     "data": {
      "text/plain": [
       "3.3333333333333335"
      ]
     },
     "execution_count": 3,
     "metadata": {},
     "output_type": "execute_result"
    }
   ],
   "source": [
    "# This will convert 200 minutes to hours by dividing it by 60\n",
    "200/60"
   ]
  },
  {
   "cell_type": "markdown",
   "id": "cfa155a3-b8f5-4483-abe4-7386e9ebf4e3",
   "metadata": {},
   "source": [
    "## Author\n",
    "Amod Suresh Deshmukh"
   ]
  },
  {
   "cell_type": "code",
   "execution_count": null,
   "id": "5cb31a8f-4f7e-4f43-8a37-a8a6eac2aab5",
   "metadata": {},
   "outputs": [],
   "source": []
  }
 ],
 "metadata": {
  "kernelspec": {
   "display_name": "Python",
   "language": "python",
   "name": "conda-env-python-py"
  },
  "language_info": {
   "codemirror_mode": {
    "name": "ipython",
    "version": 3
   },
   "file_extension": ".py",
   "mimetype": "text/x-python",
   "name": "python",
   "nbconvert_exporter": "python",
   "pygments_lexer": "ipython3",
   "version": "3.7.12"
  }
 },
 "nbformat": 4,
 "nbformat_minor": 5
}
